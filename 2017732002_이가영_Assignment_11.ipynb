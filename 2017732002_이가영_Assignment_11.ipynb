{
  "nbformat": 4,
  "nbformat_minor": 0,
  "metadata": {
    "colab": {
      "name": "2017732002_이가영_Assignment_11",
      "provenance": [],
      "collapsed_sections": []
    },
    "kernelspec": {
      "name": "python3",
      "display_name": "Python 3"
    },
    "language_info": {
      "name": "python"
    },
    "accelerator": "GPU"
  },
  "cells": [
    {
      "cell_type": "markdown",
      "metadata": {
        "id": "XDPcfhQ5x7sz"
      },
      "source": [
        "## 3. Assignment\n",
        "### 다음 미완성 코드를 활용해 새로운 data를 학습해보자\n",
        "* Training data image \n",
        "  + Shape: (?, 3, 64, 128)\n",
        "      - 여러장의, RGB, 64x128 size의 이미지라고 가정하자\n",
        "* Test data image\n",
        "  + Shape: (?, 3, ?, ?)\n",
        "      - 여러장의, RGB, size를 알 수 없는 이미지라고 가정하자\n",
        "* Labels\n",
        "  + image의 class는 2가지 이다\n",
        "  + data folder의 구성을 참고하자\n",
        "* Data folder 위치\n",
        "  + 노트북 github의 data folder 2개를 적당한 위치에 카피해 사용한다\n",
        "\n",
        "\n"
      ]
    },
    {
      "cell_type": "code",
      "metadata": {
        "colab": {
          "base_uri": "https://localhost:8080/"
        },
        "id": "5SxQxxAbhw-O",
        "outputId": "e0bef90c-9443-407c-f9b7-90435a895416"
      },
      "source": [
        "from google.colab import drive\n",
        "drive.mount('/content/drive')"
      ],
      "execution_count": 1,
      "outputs": [
        {
          "output_type": "stream",
          "name": "stdout",
          "text": [
            "Mounted at /content/drive\n"
          ]
        }
      ]
    },
    {
      "cell_type": "code",
      "metadata": {
        "colab": {
          "base_uri": "https://localhost:8080/"
        },
        "id": "qIHE2cUPeBwX",
        "outputId": "c5aab6c7-0738-47d6-d18a-110b5eac2070"
      },
      "source": [
        "import torch\n",
        "import torchvision.datasets as dsets\n",
        "import torchvision.transforms as transforms\n",
        "import torch.nn.init\n",
        "from torch.utils.data import DataLoader\n",
        "\n",
        "device = 'cuda' if torch.cuda.is_available() else 'cpu'\n",
        "print(device)\n",
        "\n",
        "# for reproducibility\n",
        "torch.manual_seed(777)\n",
        "if device == 'cuda':\n",
        "    torch.cuda.manual_seed_all(777)\n",
        "\n",
        "# Model\n",
        "##### 지난 assignment에서 작성한 모델을 활용한다 \n",
        "##### 바뀐 image input에 맞게 변형한다\n",
        "##### 바뀐 image의 size는 64x128이며, 흑백이 아닌 RGB 3개의 채널임에 유의한다\n",
        "class CNN(torch.nn.Module):\n",
        "\n",
        "    def __init__(self):\n",
        "        super(CNN, self).__init__()\n",
        "        # L1 Input shape=(?, 1, 28, 28)\n",
        "        #    Conv     -> (?, 32, 28, 28)\n",
        "        #    Pool     -> (?, 32, 14, 14)\n",
        "        self.layer1 = torch.nn.Sequential(\n",
        "            torch.nn.Conv2d(3, 32, kernel_size=3, stride=1, padding=1),\n",
        "            torch.nn.ReLU(),\n",
        "            torch.nn.MaxPool2d(kernel_size=2, stride=2))\n",
        "        \n",
        "        # L2 Input shape=(?, 32, 14, 14)\n",
        "        #    Conv      ->(?, 64, 14, 14)\n",
        "        #    Pool      ->(?, 64, 7, 7)\n",
        "        self.layer2 = torch.nn.Sequential(\n",
        "            torch.nn.Conv2d(32, 64, kernel_size=3, stride=1, padding=1),\n",
        "            torch.nn.ReLU(),\n",
        "            torch.nn.MaxPool2d(kernel_size=2, stride=2))\n",
        "        \n",
        "        # L3 Input shape=(?, 64, 7, 7)\n",
        "        #    Conv      ->(?, 128, 7, 7)\n",
        "        #    Pool      ->(?, 128, 4, 4)\n",
        "        self.layer3 = torch.nn.Sequential(\n",
        "            torch.nn.Conv2d(64, 128, kernel_size=3, stride=1, padding=1),\n",
        "            torch.nn.ReLU(),\n",
        "            torch.nn.MaxPool2d(kernel_size=2, stride=2, padding=1)) \n",
        "        \n",
        "        # L4 Linear 128x4x4 inputs -> 625 outputs\n",
        "        self.Linear = torch.nn.Linear(19584, 625, bias=True)  # 128로 바꿔보기\n",
        "        torch.nn.init.xavier_uniform_(self.Linear.weight)\n",
        "        self.layer4 = torch.nn.Sequential(\n",
        "            self.Linear,\n",
        "            torch.nn.ReLU(),\n",
        "            torch.nn.Dropout(p=0.5))\n",
        "       \n",
        "        # L5 Linear 625 inputs -> 10 outputs\n",
        "        self.layer5 = torch.nn.Linear(625, 2, bias=True)\n",
        "        torch.nn.init.xavier_uniform_(self.layer5.weight)\n",
        "        # softmax는 Cross Entropy Loss에 포함되어있음.\n",
        "        \n",
        "\n",
        "    def forward(self, x):\n",
        "        # print(\"adsfasdfasfsdf\")\n",
        "        # print(x.shape)           # torch.Size([8, 3, 64, 128])\n",
        "        out = self.layer1(x)     # [8, 128, 16, 32]\n",
        "        # print(out.shape)\n",
        "        out = self.layer2(out)   \n",
        "        # print(out.shape)\n",
        "        out = self.layer3(out)\n",
        "        # print(out.shape)\n",
        "        out = out.view(out.size(0), -1)   # Flatten them for FC\n",
        "        # print(out.shape)\n",
        "        out = self.layer4(out)\n",
        "        # print(out.shape)\n",
        "        out = self.layer5(out)\n",
        "        # print(out.shape)\n",
        "        out = out.view(out.size(0), -1) \n",
        "        # print(out.shape)\n",
        "        return out\n",
        "\n",
        "# parameters\n",
        "##### 적당히 수정한다\n",
        "learning_rate = 0.001\n",
        "training_epochs = 15\n",
        "\n",
        "# contruct model\n",
        "model = CNN().to(device)\n",
        "\n",
        "# define cost/loss & optimizer\n",
        "criterion = torch.nn.CrossEntropyLoss().to(device) \n",
        "optimizer = torch.optim.Adam(model.parameters(), lr=learning_rate)\n",
        "\n",
        "# train\n",
        "##### 직접 dataset을 만들어 학습할 때 자주 사용되는 함수이니 기능을 숙지한다\n",
        "##### pytorch 공식 홈페이지에서 관련 함수의 정보를 직접 찾아보는 것을 추천한다\n",
        "trans = transforms.Compose([transforms.ToTensor()])\n",
        "train_data = dsets.ImageFolder(root='/content/drive/MyDrive/[21학년도 2학기]인공지능응용/train_data', transform=trans)\n",
        "data_loader = DataLoader(dataset = train_data, batch_size = 8, shuffle = True)\n",
        "\n",
        "\n",
        "# for X, Y in data_loader:\n",
        "#   print(X.shape)    # torch.Size([8, 3, 64, 128])\n",
        "#   print(Y.shape)    # torch.Size([8])\n",
        "#   break\n"
      ],
      "execution_count": 2,
      "outputs": [
        {
          "output_type": "stream",
          "name": "stdout",
          "text": [
            "cuda\n"
          ]
        }
      ]
    },
    {
      "cell_type": "code",
      "metadata": {
        "colab": {
          "base_uri": "https://localhost:8080/"
        },
        "id": "9RTfnV1OiduR",
        "outputId": "4042b372-3b9d-48ac-bd1b-c3a0f9adc8f3"
      },
      "source": [
        "\n",
        "total_batch = len(data_loader)\n",
        "\n",
        "##### 학습이 이루어지는 loop\n",
        "##### 지난 source code를 그대로 사용해도 되지만, 연습삼아 직접 작성해보자\n",
        "for epoch in range(training_epochs):\n",
        "    for X, Y in data_loader:\n",
        "        X = X .to(device)\n",
        "        Y = Y.to(device)\n",
        "\n",
        "        optimizer.zero_grad()\n",
        "        hypothesis = model(X)\n",
        "\n",
        "        # print(Y)\n",
        "        # print(hypothesis)\n",
        "        \n",
        "        cost = criterion(hypothesis, Y)\n",
        "        cost.backward()\n",
        "        optimizer.step()\n",
        "      \n",
        "    \n",
        "    cost = torch.mean(cost)\n",
        "    print('Epoch {:4d}/{} Cost: {:.9f}'.format(epoch+1, training_epochs, cost.item()))\n"
      ],
      "execution_count": 3,
      "outputs": [
        {
          "output_type": "stream",
          "name": "stderr",
          "text": [
            "/usr/local/lib/python3.7/dist-packages/torch/nn/functional.py:718: UserWarning: Named tensors and all their associated APIs are an experimental feature and subject to change. Please do not use them for anything important until they are released as stable. (Triggered internally at  /pytorch/c10/core/TensorImpl.h:1156.)\n",
            "  return torch.max_pool2d(input, kernel_size, stride, padding, dilation, ceil_mode)\n"
          ]
        },
        {
          "output_type": "stream",
          "name": "stdout",
          "text": [
            "Epoch    1/15 Cost: 0.000000000\n",
            "Epoch    2/15 Cost: 0.000000000\n",
            "Epoch    3/15 Cost: 0.000000000\n",
            "Epoch    4/15 Cost: 0.044655304\n",
            "Epoch    5/15 Cost: 0.000000119\n",
            "Epoch    6/15 Cost: 0.000000000\n",
            "Epoch    7/15 Cost: 0.000000000\n",
            "Epoch    8/15 Cost: 0.000000000\n",
            "Epoch    9/15 Cost: 0.000000000\n",
            "Epoch   10/15 Cost: 0.000000000\n",
            "Epoch   11/15 Cost: 0.000000000\n",
            "Epoch   12/15 Cost: 0.000000000\n",
            "Epoch   13/15 Cost: 0.000000000\n",
            "Epoch   14/15 Cost: 0.000000000\n",
            "Epoch   15/15 Cost: 0.000000000\n"
          ]
        }
      ]
    },
    {
      "cell_type": "code",
      "metadata": {
        "colab": {
          "base_uri": "https://localhost:8080/"
        },
        "id": "lV8Yg7snCHnO",
        "outputId": "7a5a583d-7e89-402b-cdbc-25fc8b949ecf"
      },
      "source": [
        "print(Y)\n",
        "print(hypothesis)"
      ],
      "execution_count": 4,
      "outputs": [
        {
          "output_type": "stream",
          "name": "stdout",
          "text": [
            "tensor([1, 0, 1, 0, 0, 0, 0], device='cuda:0')\n",
            "tensor([[-83.5229,  50.8721],\n",
            "        [  6.8854,  -6.0845],\n",
            "        [-88.2169,  40.6859],\n",
            "        [ 11.4427,  -9.8422],\n",
            "        [ 12.2441, -12.7569],\n",
            "        [  7.6094,  -6.8586],\n",
            "        [  9.6085,  -7.2175]], device='cuda:0', grad_fn=<ViewBackward>)\n"
          ]
        }
      ]
    },
    {
      "cell_type": "code",
      "metadata": {
        "colab": {
          "base_uri": "https://localhost:8080/"
        },
        "id": "2Vu8CsfCoknm",
        "outputId": "beedd28a-712a-44c6-b159-63b874355c58"
      },
      "source": [
        "\n",
        "# test\n",
        "##### 직접 dataset을 만들어 학습할 때 자주 사용되는 함수이니 기능을 숙지한다\n",
        "##### pytorch 공식 홈페이지에서 관련 함수의 정보를 직접 찾아보는 것을 추천한다\n",
        "trans=transforms.Compose([transforms.Resize((64,128)),transforms.ToTensor()])\n",
        "test_data = dsets.ImageFolder(root='/content/drive/MyDrive/[21학년도 2학기]인공지능응용/test_data', transform=trans)\n",
        "test_set = DataLoader(dataset = test_data, batch_size = len(test_data))\n",
        "\n",
        "with torch.no_grad():\n",
        "##### 결과 test가 이루어지는 loop\n",
        "##### 지난 source code를 그대로 사용해도 되지만, 연습삼아 직접 작성해보자\n",
        "  for X, Y in data_loader:\n",
        "    X_test = X.to(device)\n",
        "    Y_test = Y.to(device)\n",
        "\n",
        "    prediction = model(X_test)\n",
        "    correct = torch.argmax(prediction, 1) == Y_test\n",
        "    accuracy = correct.float().mean()\n",
        "  print('Accuracy:', accuracy.item())\n",
        "\n"
      ],
      "execution_count": 7,
      "outputs": [
        {
          "output_type": "stream",
          "name": "stdout",
          "text": [
            "Accuracy: 1.0\n"
          ]
        }
      ]
    }
  ]
}